{
 "cells": [
  {
   "cell_type": "code",
   "execution_count": 5,
   "metadata": {},
   "outputs": [
    {
     "name": "stdout",
     "output_type": "stream",
     "text": [
      "69912\n"
     ]
    }
   ],
   "source": [
    "## Part 1\n",
    "max_calories = 0\n",
    "\n",
    "with open('real_data.txt') as f:\n",
    "    current_calories = 0\n",
    "    for line in f:\n",
    "        if line.strip().isdigit():\n",
    "            current_calories += int(line.strip())\n",
    "            if current_calories > max_calories:\n",
    "                max_calories = current_calories\n",
    "        else:\n",
    "            current_calories =0\n",
    "\n",
    "print(max_calories)"
   ]
  },
  {
   "cell_type": "code",
   "execution_count": 25,
   "metadata": {},
   "outputs": [
    {
     "name": "stdout",
     "output_type": "stream",
     "text": [
      "[69912, 69741, 68527]\n",
      "208180\n"
     ]
    }
   ],
   "source": [
    "## Part 2\n",
    "\n",
    "top_three_elves = [0, 0, 0]\n",
    "\n",
    "with open('real_data.txt') as f:\n",
    "    current_calories = 0\n",
    "    for line in f:\n",
    "        if line.strip().isdigit():\n",
    "            current_calories += int(line.strip())\n",
    "        else:\n",
    "            ## Greater than the largest\n",
    "            if current_calories > top_three_elves[0]:\n",
    "                top_three_elves[2] = top_three_elves[1]\n",
    "                top_three_elves[1] = top_three_elves[0]\n",
    "                top_three_elves[0] = current_calories\n",
    "            ## If smaller than the largest, but greater than middle\n",
    "            elif current_calories < top_three_elves[0] and current_calories > top_three_elves[1]:\n",
    "                top_three_elves[2] = top_three_elves[1]\n",
    "                top_three_elves[1] = current_calories\n",
    "            ## If smaller than middle, but greater than last\n",
    "            elif current_calories < top_three_elves[1] and current_calories > top_three_elves[2]:\n",
    "                top_three_elves[2] = current_calories\n",
    "            ## Reset\n",
    "            current_calories =0\n",
    "\n",
    "\n",
    "print(top_three_elves)\n",
    "print(sum(top_three_elves))\n"
   ]
  }
 ],
 "metadata": {
  "kernelspec": {
   "display_name": "Python 3.9.12 ('base')",
   "language": "python",
   "name": "python3"
  },
  "language_info": {
   "codemirror_mode": {
    "name": "ipython",
    "version": 3
   },
   "file_extension": ".py",
   "mimetype": "text/x-python",
   "name": "python",
   "nbconvert_exporter": "python",
   "pygments_lexer": "ipython3",
   "version": "3.9.12"
  },
  "orig_nbformat": 4,
  "vscode": {
   "interpreter": {
    "hash": "96e1f1dd701d111b620ca79e19f6c6609223278daa04c23c30c7aaf27f0349d3"
   }
  }
 },
 "nbformat": 4,
 "nbformat_minor": 2
}
